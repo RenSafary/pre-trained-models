{
 "cells": [
  {
   "cell_type": "markdown",
   "metadata": {},
   "source": [
    "<H1 style=\"color: cornflowerblue; \">Initialization Libraries</H1>"
   ]
  },
  {
   "cell_type": "code",
   "execution_count": 61,
   "metadata": {},
   "outputs": [],
   "source": [
    "import torch\n",
    "import torch.nn as nn\n",
    "import torch.nn.functional as F\n",
    "import torch.optim as optim\n",
    "from torch.utils.data import Dataset, DataLoader\n",
    "from torchvision import transforms, models\n",
    "\n",
    "from sklearn.metrics import accuracy_score\n",
    "import numpy as np\n",
    "import pandas as pd\n",
    "\n",
    "import os\n",
    "from PIL import Image"
   ]
  },
  {
   "cell_type": "markdown",
   "metadata": {},
   "source": [
    "<H1 style=\"color: cornflowerblue\">Connecting CUDA</H1>"
   ]
  },
  {
   "cell_type": "code",
   "execution_count": 62,
   "metadata": {},
   "outputs": [
    {
     "data": {
      "text/plain": [
       "device(type='cuda')"
      ]
     },
     "execution_count": 62,
     "metadata": {},
     "output_type": "execute_result"
    }
   ],
   "source": [
    "device = torch.device(\"cuda\" if torch.cuda.is_available else \"cpu\")\n",
    "device"
   ]
  },
  {
   "cell_type": "markdown",
   "metadata": {},
   "source": [
    "<H1 style=\"color: cornflowerblue;\">Creating Class Dataset</H1>"
   ]
  },
  {
   "cell_type": "code",
   "execution_count": 63,
   "metadata": {},
   "outputs": [],
   "source": [
    "class DogsVsCats(Dataset):\n",
    "    def __init__(self, path_dir1, path_dir2, transform=None):\n",
    "        self.transform = transform\n",
    "        self.dog_paths = [(os.path.join(path_dir1, f)) for f in sorted(os.listdir(path_dir1))]\n",
    "        self.cat_paths = [(os.path.join(path_dir2, f)) for f in sorted(os.listdir(path_dir2))]\n",
    "\n",
    "    def __len__(self):\n",
    "        return len(self.dog_paths) + len(self.cat_paths)\n",
    "    \n",
    "    def __getitem__(self, i):\n",
    "        if i < len(self.dog_paths):\n",
    "            label = 0\n",
    "            img_path = self.dog_paths[i]\n",
    "        else:\n",
    "            label = 1\n",
    "            img_path = self.cat_paths[i - len(self.dog_paths)]\n",
    "\n",
    "        img = Image.open(img_path).convert(\"RGB\")\n",
    "        if self.transform:\n",
    "            img = self.transform(img)\n",
    "        \n",
    "        label = torch.tensor(label)\n",
    "\n",
    "        return img, label"
   ]
  },
  {
   "cell_type": "markdown",
   "metadata": {},
   "source": [
    "<H1 style=\"color: cornflowerblue;\">Augmentation and transfer data to class Dataset</H1>"
   ]
  },
  {
   "cell_type": "code",
   "execution_count": 64,
   "metadata": {},
   "outputs": [],
   "source": [
    "transform = transforms.Compose([\n",
    "    transforms.Resize((300, 256)),\n",
    "    transforms.RandomHorizontalFlip(),\n",
    "    transforms.RandomVerticalFlip(),\n",
    "    transforms.ToTensor(),\n",
    "    transforms.Normalize(mean=[0.5, 0.5, 0.5], std=[0.5, 0.5, 0.5])\n",
    "])"
   ]
  },
  {
   "cell_type": "code",
   "execution_count": 65,
   "metadata": {},
   "outputs": [],
   "source": [
    "dogs_path_train = \"./data/train/Dog/\"\n",
    "cats_path_train = \"./data/train/Cat/\"\n",
    "\n",
    "dogs_path_test = \"./data/test/Dog/\"\n",
    "cats_path_test = \"./data/test/Cat/\"\n",
    "\n",
    "dogs_vs_cats_train_dataset = DogsVsCats(dogs_path_train, cats_path_train, transform)\n",
    "dogs_vs_cats_test_dataset = DogsVsCats(dogs_path_test, cats_path_test, transform)"
   ]
  },
  {
   "cell_type": "code",
   "execution_count": 66,
   "metadata": {},
   "outputs": [],
   "source": [
    "train_loader = DataLoader(dataset=dogs_vs_cats_train_dataset, batch_size=64, shuffle=True)\n",
    "test_loader = DataLoader(dataset=dogs_vs_cats_test_dataset, batch_size=64, shuffle=False)"
   ]
  },
  {
   "cell_type": "markdown",
   "metadata": {},
   "source": [
    "<H1 style=\"color: cornflowerblue;\">Connecting and Configurating the pre-trained ResNet18 model</H1>"
   ]
  },
  {
   "cell_type": "code",
   "execution_count": 67,
   "metadata": {},
   "outputs": [
    {
     "name": "stderr",
     "output_type": "stream",
     "text": [
      "c:\\Users\\ilyae\\AppData\\Local\\Programs\\Python\\Python311\\Lib\\site-packages\\torchvision\\models\\_utils.py:208: UserWarning: The parameter 'pretrained' is deprecated since 0.13 and may be removed in the future, please use 'weights' instead.\n",
      "  warnings.warn(\n",
      "c:\\Users\\ilyae\\AppData\\Local\\Programs\\Python\\Python311\\Lib\\site-packages\\torchvision\\models\\_utils.py:223: UserWarning: Arguments other than a weight enum or `None` for 'weights' are deprecated since 0.13 and may be removed in the future. The current behavior is equivalent to passing `weights=ResNet18_Weights.IMAGENET1K_V1`. You can also use `weights=ResNet18_Weights.DEFAULT` to get the most up-to-date weights.\n",
      "  warnings.warn(msg)\n"
     ]
    },
    {
     "data": {
      "text/plain": [
       "Linear(in_features=512, out_features=2, bias=True)"
      ]
     },
     "execution_count": 67,
     "metadata": {},
     "output_type": "execute_result"
    }
   ],
   "source": [
    "model_resnet = models.resnet18(pretrained=True)\n",
    "model_resnet = model_resnet.to(device)\n",
    "\n",
    "count_classes = 2\n",
    "model_resnet.fc = nn.Linear(model_resnet.fc.in_features, count_classes).to(device)\n",
    "\n",
    "model_resnet.fc"
   ]
  },
  {
   "cell_type": "code",
   "execution_count": 80,
   "metadata": {},
   "outputs": [
    {
     "data": {
      "text/plain": [
       "ResNet(\n",
       "  (conv1): Conv2d(3, 64, kernel_size=(7, 7), stride=(2, 2), padding=(3, 3), bias=False)\n",
       "  (bn1): BatchNorm2d(64, eps=1e-05, momentum=0.1, affine=True, track_running_stats=True)\n",
       "  (relu): ReLU(inplace=True)\n",
       "  (maxpool): MaxPool2d(kernel_size=3, stride=2, padding=1, dilation=1, ceil_mode=False)\n",
       "  (layer1): Sequential(\n",
       "    (0): BasicBlock(\n",
       "      (conv1): Conv2d(64, 64, kernel_size=(3, 3), stride=(1, 1), padding=(1, 1), bias=False)\n",
       "      (bn1): BatchNorm2d(64, eps=1e-05, momentum=0.1, affine=True, track_running_stats=True)\n",
       "      (relu): ReLU(inplace=True)\n",
       "      (conv2): Conv2d(64, 64, kernel_size=(3, 3), stride=(1, 1), padding=(1, 1), bias=False)\n",
       "      (bn2): BatchNorm2d(64, eps=1e-05, momentum=0.1, affine=True, track_running_stats=True)\n",
       "    )\n",
       "    (1): BasicBlock(\n",
       "      (conv1): Conv2d(64, 64, kernel_size=(3, 3), stride=(1, 1), padding=(1, 1), bias=False)\n",
       "      (bn1): BatchNorm2d(64, eps=1e-05, momentum=0.1, affine=True, track_running_stats=True)\n",
       "      (relu): ReLU(inplace=True)\n",
       "      (conv2): Conv2d(64, 64, kernel_size=(3, 3), stride=(1, 1), padding=(1, 1), bias=False)\n",
       "      (bn2): BatchNorm2d(64, eps=1e-05, momentum=0.1, affine=True, track_running_stats=True)\n",
       "    )\n",
       "  )\n",
       "  (layer2): Sequential(\n",
       "    (0): BasicBlock(\n",
       "      (conv1): Conv2d(64, 128, kernel_size=(3, 3), stride=(2, 2), padding=(1, 1), bias=False)\n",
       "      (bn1): BatchNorm2d(128, eps=1e-05, momentum=0.1, affine=True, track_running_stats=True)\n",
       "      (relu): ReLU(inplace=True)\n",
       "      (conv2): Conv2d(128, 128, kernel_size=(3, 3), stride=(1, 1), padding=(1, 1), bias=False)\n",
       "      (bn2): BatchNorm2d(128, eps=1e-05, momentum=0.1, affine=True, track_running_stats=True)\n",
       "      (downsample): Sequential(\n",
       "        (0): Conv2d(64, 128, kernel_size=(1, 1), stride=(2, 2), bias=False)\n",
       "        (1): BatchNorm2d(128, eps=1e-05, momentum=0.1, affine=True, track_running_stats=True)\n",
       "      )\n",
       "    )\n",
       "    (1): BasicBlock(\n",
       "      (conv1): Conv2d(128, 128, kernel_size=(3, 3), stride=(1, 1), padding=(1, 1), bias=False)\n",
       "      (bn1): BatchNorm2d(128, eps=1e-05, momentum=0.1, affine=True, track_running_stats=True)\n",
       "      (relu): ReLU(inplace=True)\n",
       "      (conv2): Conv2d(128, 128, kernel_size=(3, 3), stride=(1, 1), padding=(1, 1), bias=False)\n",
       "      (bn2): BatchNorm2d(128, eps=1e-05, momentum=0.1, affine=True, track_running_stats=True)\n",
       "    )\n",
       "  )\n",
       "  (layer3): Sequential(\n",
       "    (0): BasicBlock(\n",
       "      (conv1): Conv2d(128, 256, kernel_size=(3, 3), stride=(2, 2), padding=(1, 1), bias=False)\n",
       "      (bn1): BatchNorm2d(256, eps=1e-05, momentum=0.1, affine=True, track_running_stats=True)\n",
       "      (relu): ReLU(inplace=True)\n",
       "      (conv2): Conv2d(256, 256, kernel_size=(3, 3), stride=(1, 1), padding=(1, 1), bias=False)\n",
       "      (bn2): BatchNorm2d(256, eps=1e-05, momentum=0.1, affine=True, track_running_stats=True)\n",
       "      (downsample): Sequential(\n",
       "        (0): Conv2d(128, 256, kernel_size=(1, 1), stride=(2, 2), bias=False)\n",
       "        (1): BatchNorm2d(256, eps=1e-05, momentum=0.1, affine=True, track_running_stats=True)\n",
       "      )\n",
       "    )\n",
       "    (1): BasicBlock(\n",
       "      (conv1): Conv2d(256, 256, kernel_size=(3, 3), stride=(1, 1), padding=(1, 1), bias=False)\n",
       "      (bn1): BatchNorm2d(256, eps=1e-05, momentum=0.1, affine=True, track_running_stats=True)\n",
       "      (relu): ReLU(inplace=True)\n",
       "      (conv2): Conv2d(256, 256, kernel_size=(3, 3), stride=(1, 1), padding=(1, 1), bias=False)\n",
       "      (bn2): BatchNorm2d(256, eps=1e-05, momentum=0.1, affine=True, track_running_stats=True)\n",
       "    )\n",
       "  )\n",
       "  (layer4): Sequential(\n",
       "    (0): BasicBlock(\n",
       "      (conv1): Conv2d(256, 512, kernel_size=(3, 3), stride=(2, 2), padding=(1, 1), bias=False)\n",
       "      (bn1): BatchNorm2d(512, eps=1e-05, momentum=0.1, affine=True, track_running_stats=True)\n",
       "      (relu): ReLU(inplace=True)\n",
       "      (conv2): Conv2d(512, 512, kernel_size=(3, 3), stride=(1, 1), padding=(1, 1), bias=False)\n",
       "      (bn2): BatchNorm2d(512, eps=1e-05, momentum=0.1, affine=True, track_running_stats=True)\n",
       "      (downsample): Sequential(\n",
       "        (0): Conv2d(256, 512, kernel_size=(1, 1), stride=(2, 2), bias=False)\n",
       "        (1): BatchNorm2d(512, eps=1e-05, momentum=0.1, affine=True, track_running_stats=True)\n",
       "      )\n",
       "    )\n",
       "    (1): BasicBlock(\n",
       "      (conv1): Conv2d(512, 512, kernel_size=(3, 3), stride=(1, 1), padding=(1, 1), bias=False)\n",
       "      (bn1): BatchNorm2d(512, eps=1e-05, momentum=0.1, affine=True, track_running_stats=True)\n",
       "      (relu): ReLU(inplace=True)\n",
       "      (conv2): Conv2d(512, 512, kernel_size=(3, 3), stride=(1, 1), padding=(1, 1), bias=False)\n",
       "      (bn2): BatchNorm2d(512, eps=1e-05, momentum=0.1, affine=True, track_running_stats=True)\n",
       "    )\n",
       "  )\n",
       "  (avgpool): AdaptiveAvgPool2d(output_size=(1, 1))\n",
       "  (fc): Linear(in_features=512, out_features=2, bias=True)\n",
       ")"
      ]
     },
     "execution_count": 80,
     "metadata": {},
     "output_type": "execute_result"
    }
   ],
   "source": [
    "model_resnet"
   ]
  },
  {
   "cell_type": "markdown",
   "metadata": {},
   "source": [
    "<p style=\"color: tan;\">Here I have freezed all layers instead of the last that we have to change for our task.<br>\n",
    "In front of this code cell, I have written 2 output layers for recognizing Dogs and Cats.  \n",
    "</p>"
   ]
  },
  {
   "cell_type": "code",
   "execution_count": 68,
   "metadata": {},
   "outputs": [],
   "source": [
    "for param in model_resnet.parameters():\n",
    "    param.requires_grad = False\n",
    "\n",
    "for param in model_resnet.fc.parameters():\n",
    "    param.requires_grad = True\n",
    "\n",
    "criterion = nn.CrossEntropyLoss()\n",
    "optimizer = optim.SGD(model_resnet.fc.parameters(), lr=0.001)"
   ]
  },
  {
   "cell_type": "markdown",
   "metadata": {},
   "source": [
    "<p style=\"color: tan;\">Training this ResNet18 model with 10 epochs at a leaning rate of 0.001</p>"
   ]
  },
  {
   "cell_type": "code",
   "execution_count": 69,
   "metadata": {},
   "outputs": [
    {
     "name": "stderr",
     "output_type": "stream",
     "text": [
      "c:\\Users\\ilyae\\AppData\\Local\\Programs\\Python\\Python311\\Lib\\site-packages\\PIL\\TiffImagePlugin.py:870: UserWarning: Truncated File Read\n",
      "  warnings.warn(str(msg))\n"
     ]
    },
    {
     "name": "stdout",
     "output_type": "stream",
     "text": [
      "Epoch: [1/10], Loss: 0.4453\n",
      "Epoch: [2/10], Loss: 0.2875\n",
      "Epoch: [3/10], Loss: 0.2371\n",
      "Epoch: [4/10], Loss: 0.2173\n",
      "Epoch: [5/10], Loss: 0.2041\n",
      "Epoch: [6/10], Loss: 0.1904\n",
      "Epoch: [7/10], Loss: 0.1841\n",
      "Epoch: [8/10], Loss: 0.1805\n",
      "Epoch: [9/10], Loss: 0.1745\n",
      "Epoch: [10/10], Loss: 0.1681\n"
     ]
    }
   ],
   "source": [
    "epochs = 10\n",
    "\n",
    "loss_pd = []\n",
    "\n",
    "for epoch in range(epochs):\n",
    "    running_loss = 0.0\n",
    "    for inputs, labels in train_loader:\n",
    "        inputs, labels = inputs.to(device), labels.to(device)\n",
    "\n",
    "        optimizer.zero_grad()\n",
    "        prediction = model_resnet(inputs)\n",
    "        loss = criterion(prediction, labels)\n",
    "        loss.backward()\n",
    "        optimizer.step()\n",
    "        running_loss += loss.item()\n",
    "    loss_pd.append(running_loss/len(train_loader))\n",
    "    print(f\"Epoch: [{epoch + 1}/{epochs}], Loss: {running_loss/len(train_loader):.4f}\")"
   ]
  },
  {
   "cell_type": "markdown",
   "metadata": {},
   "source": [
    "<H1 style=\"color: cornflowerblue;\">Visualization data</H1>"
   ]
  },
  {
   "cell_type": "code",
   "execution_count": 79,
   "metadata": {},
   "outputs": [
    {
     "data": {
      "text/html": [
       "<style type=\"text/css\">\n",
       "#T_b670b th {\n",
       "  border: 1px solid black;\n",
       "}\n",
       "#T_b670b td {\n",
       "  border: 1px solid black;\n",
       "}\n",
       "</style>\n",
       "<table id=\"T_b670b\">\n",
       "  <thead><tr><th></th>\n",
       "    <tr>\n",
       "      <th class=\"blank level0\" >&nbsp;</th>\n",
       "      <th id=\"T_b670b_level0_col0\" class=\"col_heading level0 col0\" >Epochs</th>\n",
       "      <th id=\"T_b670b_level0_col1\" class=\"col_heading level0 col1\" >Loss</th>\n",
       "    </tr>\n",
       "  </thead>\n",
       "  <tbody>\n",
       "    <tr>\n",
       "      <th id=\"T_b670b_level0_row0\" class=\"row_heading level0 row0\" >0</th>\n",
       "      <td id=\"T_b670b_row0_col0\" class=\"data row0 col0\" >1</td>\n",
       "      <td id=\"T_b670b_row0_col1\" class=\"data row0 col1\" >0.445320</td>\n",
       "    </tr>\n",
       "    <tr>\n",
       "      <th id=\"T_b670b_level0_row1\" class=\"row_heading level0 row1\" >1</th>\n",
       "      <td id=\"T_b670b_row1_col0\" class=\"data row1 col0\" >2</td>\n",
       "      <td id=\"T_b670b_row1_col1\" class=\"data row1 col1\" >0.287503</td>\n",
       "    </tr>\n",
       "    <tr>\n",
       "      <th id=\"T_b670b_level0_row2\" class=\"row_heading level0 row2\" >2</th>\n",
       "      <td id=\"T_b670b_row2_col0\" class=\"data row2 col0\" >3</td>\n",
       "      <td id=\"T_b670b_row2_col1\" class=\"data row2 col1\" >0.237096</td>\n",
       "    </tr>\n",
       "    <tr>\n",
       "      <th id=\"T_b670b_level0_row3\" class=\"row_heading level0 row3\" >3</th>\n",
       "      <td id=\"T_b670b_row3_col0\" class=\"data row3 col0\" >4</td>\n",
       "      <td id=\"T_b670b_row3_col1\" class=\"data row3 col1\" >0.217262</td>\n",
       "    </tr>\n",
       "    <tr>\n",
       "      <th id=\"T_b670b_level0_row4\" class=\"row_heading level0 row4\" >4</th>\n",
       "      <td id=\"T_b670b_row4_col0\" class=\"data row4 col0\" >5</td>\n",
       "      <td id=\"T_b670b_row4_col1\" class=\"data row4 col1\" >0.204090</td>\n",
       "    </tr>\n",
       "    <tr>\n",
       "      <th id=\"T_b670b_level0_row5\" class=\"row_heading level0 row5\" >5</th>\n",
       "      <td id=\"T_b670b_row5_col0\" class=\"data row5 col0\" >6</td>\n",
       "      <td id=\"T_b670b_row5_col1\" class=\"data row5 col1\" >0.190398</td>\n",
       "    </tr>\n",
       "    <tr>\n",
       "      <th id=\"T_b670b_level0_row6\" class=\"row_heading level0 row6\" >6</th>\n",
       "      <td id=\"T_b670b_row6_col0\" class=\"data row6 col0\" >7</td>\n",
       "      <td id=\"T_b670b_row6_col1\" class=\"data row6 col1\" >0.184140</td>\n",
       "    </tr>\n",
       "    <tr>\n",
       "      <th id=\"T_b670b_level0_row7\" class=\"row_heading level0 row7\" >7</th>\n",
       "      <td id=\"T_b670b_row7_col0\" class=\"data row7 col0\" >8</td>\n",
       "      <td id=\"T_b670b_row7_col1\" class=\"data row7 col1\" >0.180484</td>\n",
       "    </tr>\n",
       "    <tr>\n",
       "      <th id=\"T_b670b_level0_row8\" class=\"row_heading level0 row8\" >8</th>\n",
       "      <td id=\"T_b670b_row8_col0\" class=\"data row8 col0\" >9</td>\n",
       "      <td id=\"T_b670b_row8_col1\" class=\"data row8 col1\" >0.174503</td>\n",
       "    </tr>\n",
       "    <tr>\n",
       "      <th id=\"T_b670b_level0_row9\" class=\"row_heading level0 row9\" >9</th>\n",
       "      <td id=\"T_b670b_row9_col0\" class=\"data row9 col0\" >10</td>\n",
       "      <td id=\"T_b670b_row9_col1\" class=\"data row9 col1\" >0.168125</td>\n",
       "    </tr>\n",
       "  </tbody>\n",
       "</table>\n"
      ],
      "text/plain": [
       "<IPython.core.display.HTML object>"
      ]
     },
     "execution_count": 79,
     "metadata": {},
     "output_type": "execute_result"
    }
   ],
   "source": [
    "data = []\n",
    "k = 1\n",
    "for loss in loss_pd:\n",
    "    data.append((k, loss))\n",
    "    k += 1\n",
    "\n",
    "df = pd.DataFrame(data, columns=['Epochs', 'Loss'])\n",
    "\n",
    "styles = [\n",
    "    dict(selector=\"th\", props=[(\"border\", \"1px solid black\")]),\n",
    "    dict(selector=\"td\", props=[(\"border\", \"1px solid black\")]),\n",
    "]\n",
    "\n",
    "html = df.style.set_table_styles(styles).to_html()\n",
    "\n",
    "html = html.replace('<thead>','<thead><tr><th></th>')\n",
    "\n",
    "HTML(html)"
   ]
  },
  {
   "cell_type": "markdown",
   "metadata": {},
   "source": [
    "<H1 style=\"color: cornflowerblue;\">Accuracy on test data</H1>"
   ]
  },
  {
   "cell_type": "code",
   "execution_count": null,
   "metadata": {},
   "outputs": [
    {
     "name": "stdout",
     "output_type": "stream",
     "text": [
      "Accuracy: 94.4%\n"
     ]
    }
   ],
   "source": [
    "model_resnet.eval()\n",
    "model_resnet.cpu()\n",
    "\n",
    "y_pred = []\n",
    "y_true = []\n",
    "\n",
    "with torch.no_grad():\n",
    "    for images, labels in test_loader:\n",
    "        images, labels = images.cpu(), labels.cpu()\n",
    "        prediction = model_resnet(images)\n",
    "        prediction = torch.argmax(prediction, dim=1)\n",
    "        prediction = prediction.numpy()\n",
    "        labels = labels.numpy()\n",
    "\n",
    "        y_pred.append(prediction)\n",
    "        y_true.append(labels)\n",
    "\n",
    "y_pred = np.concatenate(y_pred)\n",
    "y_true = np.concatenate(y_true)\n",
    "\n",
    "accuracy = accuracy_score(y_true, y_pred)\n",
    "print(f\"Accuracy: {100 * accuracy:.1f}%\")"
   ]
  }
 ],
 "metadata": {
  "kernelspec": {
   "display_name": "Python 3",
   "language": "python",
   "name": "python3"
  },
  "language_info": {
   "codemirror_mode": {
    "name": "ipython",
    "version": 3
   },
   "file_extension": ".py",
   "mimetype": "text/x-python",
   "name": "python",
   "nbconvert_exporter": "python",
   "pygments_lexer": "ipython3",
   "version": "3.11.1"
  }
 },
 "nbformat": 4,
 "nbformat_minor": 2
}
